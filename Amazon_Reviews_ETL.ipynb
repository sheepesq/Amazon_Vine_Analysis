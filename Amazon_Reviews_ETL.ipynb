{
  "nbformat": 4,
  "nbformat_minor": 0,
  "metadata": {
    "colab": {
      "name": "Amazon_Reviews_ETL",
      "provenance": [],
      "collapsed_sections": []
    },
    "kernelspec": {
      "display_name": "PythonData",
      "language": "python",
      "name": "pythondata"
    },
    "language_info": {
      "codemirror_mode": {
        "name": "ipython",
        "version": 3
      },
      "file_extension": ".py",
      "mimetype": "text/x-python",
      "name": "python",
      "nbconvert_exporter": "python",
      "pygments_lexer": "ipython3",
      "version": "3.7.7"
    },
    "nteract": {
      "version": "0.12.3"
    }
  },
  "cells": [
    {
      "cell_type": "code",
      "metadata": {
        "id": "V58rxea0HqSa",
        "colab": {
          "base_uri": "https://localhost:8080/"
        },
        "outputId": "7cd0aa1c-62d6-425f-aaa6-8d13b3c9fcad"
      },
      "source": [
        "import os\n",
        "# Find the latest version of spark 2.0  from http://www-us.apache.org/dist/spark/ and enter as the spark version\n",
        "# For example:\n",
        "# spark_version = 'spark-3.0.0'\n",
        "spark_version = 'spark-3.0.2'\n",
        "os.environ['SPARK_VERSION']=spark_version\n",
        "\n",
        "# Install Spark and Java\n",
        "!apt-get update\n",
        "!apt-get install openjdk-11-jdk-headless -qq > /dev/null\n",
        "!wget -q http://www-us.apache.org/dist/spark/$SPARK_VERSION/$SPARK_VERSION-bin-hadoop2.7.tgz\n",
        "!tar xf $SPARK_VERSION-bin-hadoop2.7.tgz\n",
        "!pip install -q findspark\n",
        "\n",
        "# Set Environment Variables\n",
        "import os\n",
        "os.environ[\"JAVA_HOME\"] = \"/usr/lib/jvm/java-11-openjdk-amd64\"\n",
        "os.environ[\"SPARK_HOME\"] = f\"/content/{spark_version}-bin-hadoop2.7\"\n",
        "\n",
        "# Start a SparkSession\n",
        "import findspark\n",
        "findspark.init()"
      ],
      "execution_count": 2,
      "outputs": [
        {
          "output_type": "stream",
          "text": [
            "\r0% [Working]\r            \rGet:1 http://security.ubuntu.com/ubuntu bionic-security InRelease [88.7 kB]\n",
            "\r0% [Connecting to archive.ubuntu.com (91.189.88.152)] [1 InRelease 14.2 kB/88.7\r                                                                               \rHit:2 https://cloud.r-project.org/bin/linux/ubuntu bionic-cran40/ InRelease\n",
            "Ign:3 https://developer.download.nvidia.com/compute/cuda/repos/ubuntu1804/x86_64  InRelease\n",
            "Ign:4 https://developer.download.nvidia.com/compute/machine-learning/repos/ubuntu1804/x86_64  InRelease\n",
            "Hit:5 http://ppa.launchpad.net/c2d4u.team/c2d4u4.0+/ubuntu bionic InRelease\n",
            "Hit:6 https://developer.download.nvidia.com/compute/cuda/repos/ubuntu1804/x86_64  Release\n",
            "Hit:7 https://developer.download.nvidia.com/compute/machine-learning/repos/ubuntu1804/x86_64  Release\n",
            "Hit:8 http://archive.ubuntu.com/ubuntu bionic InRelease\n",
            "Get:9 http://archive.ubuntu.com/ubuntu bionic-updates InRelease [88.7 kB]\n",
            "Hit:10 http://ppa.launchpad.net/cran/libgit2/ubuntu bionic InRelease\n",
            "Hit:11 http://ppa.launchpad.net/deadsnakes/ppa/ubuntu bionic InRelease\n",
            "Get:12 http://archive.ubuntu.com/ubuntu bionic-backports InRelease [74.6 kB]\n",
            "Hit:13 http://ppa.launchpad.net/graphics-drivers/ppa/ubuntu bionic InRelease\n",
            "Fetched 252 kB in 2s (115 kB/s)\n",
            "Reading package lists... Done\n"
          ],
          "name": "stdout"
        }
      ]
    },
    {
      "cell_type": "code",
      "metadata": {
        "id": "_xKwTpATHqSe",
        "colab": {
          "base_uri": "https://localhost:8080/"
        },
        "outputId": "187834d6-6671-4b9f-ead6-849cee9600ac"
      },
      "source": [
        "# Download the Postgres driver that will allow Spark to interact with Postgres.\n",
        "!wget https://jdbc.postgresql.org/download/postgresql-42.2.16.jar"
      ],
      "execution_count": 3,
      "outputs": [
        {
          "output_type": "stream",
          "text": [
            "--2021-06-03 21:53:15--  https://jdbc.postgresql.org/download/postgresql-42.2.16.jar\n",
            "Resolving jdbc.postgresql.org (jdbc.postgresql.org)... 72.32.157.228, 2001:4800:3e1:1::228\n",
            "Connecting to jdbc.postgresql.org (jdbc.postgresql.org)|72.32.157.228|:443... connected.\n",
            "HTTP request sent, awaiting response... 200 OK\n",
            "Length: 1002883 (979K) [application/java-archive]\n",
            "Saving to: ‘postgresql-42.2.16.jar.1’\n",
            "\n",
            "postgresql-42.2.16. 100%[===================>] 979.38K  --.-KB/s    in 0.08s   \n",
            "\n",
            "2021-06-03 21:53:15 (12.0 MB/s) - ‘postgresql-42.2.16.jar.1’ saved [1002883/1002883]\n",
            "\n"
          ],
          "name": "stdout"
        }
      ]
    },
    {
      "cell_type": "code",
      "metadata": {
        "id": "MMqDAjVS0KN9"
      },
      "source": [
        "from pyspark.sql import SparkSession\n",
        "spark = SparkSession.builder.appName(\"BigData-Challenge\").config(\"spark.driver.extraClassPath\",\"/content/postgresql-42.2.16.jar\").getOrCreate()"
      ],
      "execution_count": 4,
      "outputs": []
    },
    {
      "cell_type": "markdown",
      "metadata": {
        "id": "cyBsySGuY-9V"
      },
      "source": [
        "### Load Amazon Data into Spark DataFrame"
      ]
    },
    {
      "cell_type": "code",
      "metadata": {
        "id": "CtCmBhQJY-9Z"
      },
      "source": [
        "# Read in data from S3 Buckets\n",
        "from pyspark import SparkFiles\n",
        "url =\"https://bahesq-mod16.s3.amazonaws.com/amazon_reviews_us_Tools.tsv\"\n",
        "spark.sparkContext.addFile(url)\n",
        "user_data_df = spark.read.csv(SparkFiles.get(\"amazon_reviews_us_Tools.tsv\"), sep=\"\\t\", header=True, inferSchema=True)"
      ],
      "execution_count": 6,
      "outputs": []
    },
    {
      "cell_type": "markdown",
      "metadata": {
        "id": "2yUSe55VY-9t"
      },
      "source": [
        "### Create DataFrames to match tables"
      ]
    },
    {
      "cell_type": "code",
      "metadata": {
        "id": "C8REmY1aY-9u",
        "colab": {
          "base_uri": "https://localhost:8080/"
        },
        "outputId": "20b4aa31-5fc5-465f-9596-9712692c325e"
      },
      "source": [
        "from pyspark.sql.functions import to_date\n",
        "# Read in the Review dataset as a DataFrame\n",
        "user_data_df.show()"
      ],
      "execution_count": 7,
      "outputs": [
        {
          "output_type": "stream",
          "text": [
            "+-----------+-----------+--------------+----------+--------------+--------------------+----------------+-----------+-------------+-----------+----+-----------------+--------------------+--------------------+-----------+\n",
            "|marketplace|customer_id|     review_id|product_id|product_parent|       product_title|product_category|star_rating|helpful_votes|total_votes|vine|verified_purchase|     review_headline|         review_body|review_date|\n",
            "+-----------+-----------+--------------+----------+--------------+--------------------+----------------+-----------+-------------+-----------+----+-----------------+--------------------+--------------------+-----------+\n",
            "|         US|   15785389|R2UM5QMHBHC90Q|B00H5U9ZD6|     115362950|WallPeg 12 sq ft ...|           Tools|          5|            0|          0|   N|                Y|Great organizer, ...|Very nice. Will o...| 2015-08-31|\n",
            "|         US|   47910848|  RF0D1LEIF6L7|B001TJGCS0|     570955425|Nite Ize Nite Daw...|           Tools|          4|            0|          0|   N|                Y|Like it, but the ...|Like it, but the ...| 2015-08-31|\n",
            "|         US|   36328996|  RM6YKIWQVNSY|B000NIK8JW|     128843593|Stanley 84-058 4 ...|           Tools|          1|            6|          6|   N|                Y|        poor quality|We were excited t...| 2015-08-31|\n",
            "|         US|   51785809|R1RL3L68ASPS36|B008ZYRGUA|     407828107|Powerextra 14.4V ...|           Tools|          4|            0|          0|   N|                Y|          Four Stars|Quick delivery. P...| 2015-08-31|\n",
            "|         US|   40757491|R1U4XFBFAG34CY|B00K5CA0GC|     490746675|Waterproof Invisi...|           Tools|          5|            0|          0|   N|                Y|          Five Stars|Quality waterproo...| 2015-08-31|\n",
            "|         US|   35544833|R3KFIK8P0I91PL|B00AIJAA94|     148352067|Crime Scene Do No...|           Tools|          5|            0|          0|   N|                Y|Excellent Decorat...|Ordered for my hu...| 2015-08-31|\n",
            "|         US|   16474909| RENOAY76PPK1O|B00JKEI6K8|     331801084|Aweek® 2 Pcs Bicy...|           Tools|          5|            0|          0|   N|                Y|          Five Stars|GREAT SELLER PROD...| 2015-08-31|\n",
            "|         US|   22601598| RINV884I0NL5V|B00AGCHVS6|     471514859|Ryobi P102 Genuin...|           Tools|          1|            0|          0|   N|                Y|Worked great for ...|My battery has di...| 2015-08-31|\n",
            "|         US|   16129808| R5KJH6CXZH2PX|B002S0O7U4|     162253576|Wiha 66995 6-Piec...|           Tools|          5|            0|          0|   N|                Y|       Great quality|Great product at ...| 2015-08-31|\n",
            "|         US|   24382335| RO69JF6QWD0W1|B0084YHXMW|      69530650|TOMTOP LED Submar...|           Tools|          5|            0|          0|   N|                Y|          Five Stars|           Excellent| 2015-08-31|\n",
            "|         US|   49796324|R3L9NQBH3FI55C|B00MLSS1SW|     916693555|Black & Decker BD...|           Tools|          4|            1|          1|   N|                Y|Really worked great!|This little sande...| 2015-08-31|\n",
            "|         US|   33289687| R4YH95YPHVU0C|B00D4WLS2A|      39333316|Crain 126 Staple ...|           Tools|          5|            0|          0|   N|                Y|         LOVE IT!!!!|This is the most ...| 2015-08-31|\n",
            "|         US|   10916386|R10M1WWDDQBGG2|B00JGCDV5Y|     550596607|Diamond Semi Roun...|           Tools|          2|            0|          0|   N|                Y|I needed to cut s...|I needed to cut s...| 2015-08-31|\n",
            "|         US|   34071500| RV3KWQBTNIO62|B00N0PS3YM|     735538025|It Mall 9 LED 375...|           Tools|          5|            1|          1|   N|                Y|   Works pretty well|Lights up small d...| 2015-08-31|\n",
            "|         US|   50594486|R1M7YUNLZI0G9F|B0000DD4KV|     506501960|IRWIN Tools Metri...|           Tools|          5|            1|          1|   N|                Y|          Five Stars|Great product for...| 2015-08-31|\n",
            "|         US|   21945887|R2MTL2D4E4HEF4|B0009H5FB8|     268586246|743022-A Backing ...|           Tools|          5|            0|          0|   N|                Y|          Five Stars|Many thanks for t...| 2015-08-31|\n",
            "|         US|   47749608| RXAHWIC1584UQ|B00NKSMPZW|     824618679|ClearArmor 141001...|           Tools|          5|           20|         23|   N|                Y|          Five Stars|geart product :) ...| 2015-08-31|\n",
            "|         US|   48880662| RMOIQFERVQDWS|B00RBAB92K|     156791442|KKmoon 9cm Mini A...|           Tools|          5|            0|          0|   N|                Y|          Five Stars|           very good| 2015-08-31|\n",
            "|         US|    4660265| R710G45MKODY9|B00QGBNZVI|     962324810|Refun E6 High Pow...|           Tools|          2|            1|          1|   N|                Y|           Two Stars|Scratches on lenses.| 2015-08-31|\n",
            "|         US|   18397238|R23ZIUGUM7TBMY|B00XXU3CDG|     543062309|Dr.meter S20 Mois...|           Tools|          1|            0|          1|   N|                Y|Don't waste your ...|It's a piece of $...| 2015-08-31|\n",
            "+-----------+-----------+--------------+----------+--------------+--------------------+----------------+-----------+-------------+-----------+----+-----------------+--------------------+--------------------+-----------+\n",
            "only showing top 20 rows\n",
            "\n"
          ],
          "name": "stdout"
        }
      ]
    },
    {
      "cell_type": "code",
      "metadata": {
        "id": "B0TESUDRY-90",
        "colab": {
          "base_uri": "https://localhost:8080/"
        },
        "outputId": "44ba0588-1e91-416c-984c-70657816b2a1"
      },
      "source": [
        "# Create the customers_table DataFrame\n",
        "# customers_df = df.groupby(\"\").agg({\"\"}).withColumnRenamed(\"\", \"customer_count\")\n",
        "\n",
        "customers_df = user_data_df.groupby(\"customer_id\").agg({\"customer_id\":\"count\"}).withColumnRenamed(\"count(customer_id)\", \"customer_count\")\n",
        "customers_df.show(5)"
      ],
      "execution_count": 8,
      "outputs": [
        {
          "output_type": "stream",
          "text": [
            "+-----------+--------------+\n",
            "|customer_id|customer_count|\n",
            "+-----------+--------------+\n",
            "|   45978717|             2|\n",
            "|   43622307|             1|\n",
            "|     740678|             4|\n",
            "|   29045703|             1|\n",
            "|   52484548|             3|\n",
            "+-----------+--------------+\n",
            "only showing top 5 rows\n",
            "\n"
          ],
          "name": "stdout"
        }
      ]
    },
    {
      "cell_type": "code",
      "metadata": {
        "id": "4FwXA6UvY-96",
        "colab": {
          "base_uri": "https://localhost:8080/"
        },
        "outputId": "ed3731ca-9d42-4e15-aa33-0a52f467a5c5"
      },
      "source": [
        "# Create the products_table DataFrame and drop duplicates. \n",
        "# products_df = df.select([]).drop_duplicates()\n",
        "products_df = user_data_df.select([\"product_id\", \"product_title\"]).drop_duplicates()\n",
        "products_df.show(5)"
      ],
      "execution_count": 9,
      "outputs": [
        {
          "output_type": "stream",
          "text": [
            "+----------+--------------------+\n",
            "|product_id|       product_title|\n",
            "+----------+--------------------+\n",
            "|B000JNNWQ2|IRWIN Tools VISE-...|\n",
            "|B000OECQOK|Titan 17005 Stain...|\n",
            "|B0045W0MD4|The American Red ...|\n",
            "|B00DQQ9ET8|de.power DP-010AA...|\n",
            "|B001P30BQE|DEWALT DG5204 Pro...|\n",
            "+----------+--------------------+\n",
            "only showing top 5 rows\n",
            "\n"
          ],
          "name": "stdout"
        }
      ]
    },
    {
      "cell_type": "code",
      "metadata": {
        "id": "MkqyCuNQY-9-",
        "colab": {
          "base_uri": "https://localhost:8080/"
        },
        "outputId": "3b0b767a-a87c-4803-abc2-d4b4ea8342e1"
      },
      "source": [
        "# Create the review_id_table DataFrame. \n",
        "# Convert the 'review_date' column to a date datatype with to_date(\"review_date\", 'yyyy-MM-dd').alias(\"review_date\")\n",
        "# review_id_df = df.select([, to_date(\"review_date\", 'yyyy-MM-dd').alias(\"review_date\")])\n",
        "review_id_df = user_data_df.select([\"review_id\", \"customer_id\", \"product_id\", \"product_parent\", to_date(\"review_date\", 'yyyy-MM-dd').alias(\"review_date\")])\n",
        "review_id_df.show(5)"
      ],
      "execution_count": 10,
      "outputs": [
        {
          "output_type": "stream",
          "text": [
            "+--------------+-----------+----------+--------------+-----------+\n",
            "|     review_id|customer_id|product_id|product_parent|review_date|\n",
            "+--------------+-----------+----------+--------------+-----------+\n",
            "|R2UM5QMHBHC90Q|   15785389|B00H5U9ZD6|     115362950| 2015-08-31|\n",
            "|  RF0D1LEIF6L7|   47910848|B001TJGCS0|     570955425| 2015-08-31|\n",
            "|  RM6YKIWQVNSY|   36328996|B000NIK8JW|     128843593| 2015-08-31|\n",
            "|R1RL3L68ASPS36|   51785809|B008ZYRGUA|     407828107| 2015-08-31|\n",
            "|R1U4XFBFAG34CY|   40757491|B00K5CA0GC|     490746675| 2015-08-31|\n",
            "+--------------+-----------+----------+--------------+-----------+\n",
            "only showing top 5 rows\n",
            "\n"
          ],
          "name": "stdout"
        }
      ]
    },
    {
      "cell_type": "code",
      "metadata": {
        "id": "lzMmkdKmY--D",
        "colab": {
          "base_uri": "https://localhost:8080/"
        },
        "outputId": "6514649e-4a94-4549-f8fd-5f331883f972"
      },
      "source": [
        "# Create the vine_table. DataFrame\n",
        "vine_df = user_data_df.select([\"review_id\", \"star_rating\", \"helpful_votes\", \"total_votes\", \"vine\", \"verified_purchase\"])\n",
        "vine_df.show(5)"
      ],
      "execution_count": 18,
      "outputs": [
        {
          "output_type": "stream",
          "text": [
            "+--------------+-----------+-------------+-----------+----+-----------------+\n",
            "|     review_id|star_rating|helpful_votes|total_votes|vine|verified_purchase|\n",
            "+--------------+-----------+-------------+-----------+----+-----------------+\n",
            "|R2UM5QMHBHC90Q|          5|            0|          0|   N|                Y|\n",
            "|  RF0D1LEIF6L7|          4|            0|          0|   N|                Y|\n",
            "|  RM6YKIWQVNSY|          1|            6|          6|   N|                Y|\n",
            "|R1RL3L68ASPS36|          4|            0|          0|   N|                Y|\n",
            "|R1U4XFBFAG34CY|          5|            0|          0|   N|                Y|\n",
            "+--------------+-----------+-------------+-----------+----+-----------------+\n",
            "only showing top 5 rows\n",
            "\n"
          ],
          "name": "stdout"
        }
      ]
    },
    {
      "cell_type": "markdown",
      "metadata": {
        "id": "jITZhLkmY--J"
      },
      "source": [
        "### Connect to the AWS RDS instance and write each DataFrame to its table. "
      ]
    },
    {
      "cell_type": "code",
      "metadata": {
        "id": "7jiUvs1aY--L"
      },
      "source": [
        "# Configure settings for RDS\n",
        "mode = \"append\"\n",
        "jdbc_url=\"jdbc:postgresql://dataviz.c9ipv6jotfzn.us-east-2.rds.amazonaws.com:5432/mod16\"\n",
        "config = {\"user\":\"postgres\",\n",
        "          \"password\": \"CXXXXXXXXXX1\",\n",
        "          \"driver\":\"org.postgresql.Driver\"}"
      ],
      "execution_count": 12,
      "outputs": []
    },
    {
      "cell_type": "code",
      "metadata": {
        "id": "T2zgZ-aKY--Q"
      },
      "source": [
        "# Write review_id_df to table in RDS\n",
        "review_id_df.write.jdbc(url=jdbc_url, table='review_id_table', mode=mode, properties=config)"
      ],
      "execution_count": 14,
      "outputs": []
    },
    {
      "cell_type": "code",
      "metadata": {
        "id": "1m3yzn-LY--U"
      },
      "source": [
        "# Write products_df to table in RDS\n",
        "# about 3 min\n",
        "products_df.write.jdbc(url=jdbc_url, table='products_table', mode=mode, properties=config)"
      ],
      "execution_count": 15,
      "outputs": []
    },
    {
      "cell_type": "code",
      "metadata": {
        "id": "KbXri15fY--Z"
      },
      "source": [
        "# Write customers_df to table in RDS\n",
        "# 5 min 14 s\n",
        "customers_df.write.jdbc(url=jdbc_url, table='customers_table', mode=mode, properties=config)"
      ],
      "execution_count": 16,
      "outputs": []
    },
    {
      "cell_type": "code",
      "metadata": {
        "id": "XdQknSHLY--e"
      },
      "source": [
        "# Write vine_df to table in RDS\n",
        "# 11 minutes\n",
        "vine_df.write.jdbc(url=jdbc_url, table='vine_table', mode=mode, properties=config)"
      ],
      "execution_count": 20,
      "outputs": []
    },
    {
      "cell_type": "code",
      "metadata": {
        "id": "Exuo6ebUsCqW"
      },
      "source": [
        ""
      ],
      "execution_count": null,
      "outputs": []
    }
  ]
}